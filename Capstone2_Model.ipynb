{
 "cells": [
  {
   "cell_type": "code",
   "execution_count": 20,
   "id": "ef1a72bf",
   "metadata": {},
   "outputs": [],
   "source": [
    "# Load Modules\n",
    "import numpy as np \n",
    "import pandas as pd\n",
    "from matplotlib import ticker\n",
    "import matplotlib\n",
    "import matplotlib.pyplot as plt\n",
    "import seaborn as sns\n",
    "from statsmodels.graphics.tsaplots import plot_acf, plot_pacf, month_plot"
   ]
  },
  {
   "cell_type": "code",
   "execution_count": 21,
   "id": "c700c98a",
   "metadata": {},
   "outputs": [],
   "source": [
    "#read file\n",
    "data=pd.read_csv('archive/DUQ_hourly.csv')"
   ]
  },
  {
   "cell_type": "code",
   "execution_count": 22,
   "id": "7a2e2d96",
   "metadata": {},
   "outputs": [
    {
     "data": {
      "text/plain": [
       "(119068, 2)"
      ]
     },
     "execution_count": 22,
     "metadata": {},
     "output_type": "execute_result"
    }
   ],
   "source": [
    "data.shape"
   ]
  },
  {
   "cell_type": "code",
   "execution_count": 23,
   "id": "9b73db23",
   "metadata": {},
   "outputs": [
    {
     "name": "stdout",
     "output_type": "stream",
     "text": [
      "<class 'pandas.core.frame.DataFrame'>\n",
      "RangeIndex: 119068 entries, 0 to 119067\n",
      "Data columns (total 2 columns):\n",
      " #   Column    Non-Null Count   Dtype  \n",
      "---  ------    --------------   -----  \n",
      " 0   Datetime  119068 non-null  object \n",
      " 1   DUQ_MW    119068 non-null  float64\n",
      "dtypes: float64(1), object(1)\n",
      "memory usage: 1.8+ MB\n"
     ]
    }
   ],
   "source": [
    "data.info()"
   ]
  },
  {
   "cell_type": "code",
   "execution_count": 24,
   "id": "0b8b8d42",
   "metadata": {},
   "outputs": [
    {
     "name": "stdout",
     "output_type": "stream",
     "text": [
      "Datetime     object\n",
      "DUQ_MW      float64\n",
      "dtype: object\n"
     ]
    }
   ],
   "source": [
    "print(data.dtypes)"
   ]
  },
  {
   "cell_type": "code",
   "execution_count": 25,
   "id": "f8fadeb7",
   "metadata": {},
   "outputs": [],
   "source": [
    "# function \"datetime\" transforma the columns \"datetime\" from object (string) to datetime.\n",
    "data['Datetime'] = pd.to_datetime( data['Datetime'] )"
   ]
  },
  {
   "cell_type": "code",
   "execution_count": 26,
   "id": "8c27b9c3",
   "metadata": {},
   "outputs": [
    {
     "data": {
      "text/plain": [
       "Datetime    datetime64[ns]\n",
       "DUQ_MW             float64\n",
       "dtype: object"
      ]
     },
     "execution_count": 26,
     "metadata": {},
     "output_type": "execute_result"
    }
   ],
   "source": [
    "data.dtypes"
   ]
  },
  {
   "cell_type": "code",
   "execution_count": 27,
   "id": "f7cb2298",
   "metadata": {},
   "outputs": [],
   "source": [
    "# divide into numerical and categorical columns, as they will be treated with different techniques.\n",
    "num_attributes = data.select_dtypes( include=['float64'] )\n",
    "cat_attributes = data.select_dtypes( exclude=['float64', 'datetime64[ns]'] )"
   ]
  },
  {
   "cell_type": "code",
   "execution_count": 28,
   "id": "4b585d5f",
   "metadata": {},
   "outputs": [
    {
     "data": {
      "text/html": [
       "<div>\n",
       "<style scoped>\n",
       "    .dataframe tbody tr th:only-of-type {\n",
       "        vertical-align: middle;\n",
       "    }\n",
       "\n",
       "    .dataframe tbody tr th {\n",
       "        vertical-align: top;\n",
       "    }\n",
       "\n",
       "    .dataframe thead th {\n",
       "        text-align: right;\n",
       "    }\n",
       "</style>\n",
       "<table border=\"1\" class=\"dataframe\">\n",
       "  <thead>\n",
       "    <tr style=\"text-align: right;\">\n",
       "      <th></th>\n",
       "      <th>DUQ_MW</th>\n",
       "    </tr>\n",
       "  </thead>\n",
       "  <tbody>\n",
       "    <tr>\n",
       "      <th>111195</th>\n",
       "      <td>1422.0</td>\n",
       "    </tr>\n",
       "  </tbody>\n",
       "</table>\n",
       "</div>"
      ],
      "text/plain": [
       "        DUQ_MW\n",
       "111195  1422.0"
      ]
     },
     "execution_count": 28,
     "metadata": {},
     "output_type": "execute_result"
    }
   ],
   "source": [
    "num_attributes.sample()"
   ]
  },
  {
   "cell_type": "code",
   "execution_count": 29,
   "id": "015daf76",
   "metadata": {},
   "outputs": [
    {
     "data": {
      "image/png": "[encoded data removed]",
      "text/plain": [
       "<Figure size 432x288 with 1 Axes>"
      ]
     },
     "metadata": {
      "needs_background": "light"
     },
     "output_type": "display_data"
    }
   ],
   "source": [
    "ax = sns.lineplot(data=data, x='Datetime', y='DUQ_MW')\n",
    "ax.yaxis.set_major_formatter(ticker.StrMethodFormatter('{x:,.0f}'))\n",
    "plt.xlabel('Datetime')\n",
    "plt.ylabel('Energy Consumption (MW)')\n",
    "plt.title('ComEd Hourly Energy Consumption', fontsize=16)\n",
    "plt.grid(True)\n",
    "plt.show()"
   ]
  },
  {
   "cell_type": "code",
   "execution_count": 30,
   "id": "423d07d7",
   "metadata": {},
   "outputs": [],
   "source": [
    "data = data.set_index('Datetime')\n",
    "data.index = pd.to_datetime(data.index)"
   ]
  },
  {
   "cell_type": "markdown",
   "id": "ecc124e7",
   "metadata": {},
   "source": [
    "### convert data to stationary"
   ]
  },
  {
   "cell_type": "code",
   "execution_count": 31,
   "id": "926017ea",
   "metadata": {},
   "outputs": [
    {
     "name": "stdout",
     "output_type": "stream",
     "text": [
      "                     DUQ_MW\n",
      "Datetime                   \n",
      "2005-12-31 02:00:00   -81.0\n",
      "2005-12-31 03:00:00   -26.0\n",
      "2005-12-31 04:00:00   -15.0\n",
      "2005-12-31 05:00:00    20.0\n",
      "2005-12-31 06:00:00    16.0\n",
      "2005-12-31 07:00:00    30.0\n",
      "2005-12-31 08:00:00    23.0\n",
      "2005-12-31 09:00:00    77.0\n",
      "2005-12-31 10:00:00    54.0\n",
      "2005-12-31 11:00:00    47.0\n"
     ]
    }
   ],
   "source": [
    "df=data.diff().dropna()\n",
    "print(df.head(10))"
   ]
  },
  {
   "cell_type": "markdown",
   "id": "187c389d",
   "metadata": {},
   "source": [
    "#### ploting stationary data"
   ]
  },
  {
   "cell_type": "code",
   "execution_count": null,
   "id": "74741b79",
   "metadata": {},
   "outputs": [],
   "source": []
  },
  {
   "cell_type": "code",
   "execution_count": 32,
   "id": "33d29468",
   "metadata": {},
   "outputs": [],
   "source": [
    "df = df.reset_index()"
   ]
  },
  {
   "cell_type": "code",
   "execution_count": 33,
   "id": "14daae6e",
   "metadata": {},
   "outputs": [
    {
     "data": {
      "image/png": "[encoded data removed]",
      "text/plain": [
       "<Figure size 432x288 with 1 Axes>"
      ]
     },
     "metadata": {
      "needs_background": "light"
     },
     "output_type": "display_data"
    }
   ],
   "source": [
    "ax = sns.lineplot(data=df, x='Datetime', y='DUQ_MW')\n",
    "ax.yaxis.set_major_formatter(ticker.StrMethodFormatter('{x:,.0f}'))\n",
    "plt.xlabel('Datetime')\n",
    "plt.ylabel('Energy')\n",
    "plt.title('ComEd Hourly Energy Consumption', fontsize=16)\n",
    "plt.show()"
   ]
  },
  {
   "cell_type": "code",
   "execution_count": null,
   "id": "b1965a10",
   "metadata": {},
   "outputs": [],
   "source": []
  },
  {
   "cell_type": "code",
   "execution_count": null,
   "id": "1227bdc6",
   "metadata": {},
   "outputs": [],
   "source": []
  },
  {
   "cell_type": "markdown",
   "id": "c9948162",
   "metadata": {},
   "source": [
    "### Testing"
   ]
  },
  {
   "cell_type": "code",
   "execution_count": 34,
   "id": "224162ff",
   "metadata": {},
   "outputs": [
    {
     "name": "stdout",
     "output_type": "stream",
     "text": [
      "1. ADF :  -46.67240727147047\n",
      "2. P-Value :  0.0\n",
      "3. Num Of Lags :  71\n",
      "4. Num Of Observations Used For ADF Regression: 118995\n",
      "5. Critical Values :\n",
      "\t 1% :  -3.430404955595364\n",
      "\t 5% :  -2.8615642895548903\n",
      "\t 10% :  -2.5667829284726755\n"
     ]
    }
   ],
   "source": [
    "from statsmodels.tsa.stattools import adfuller\n",
    "def ad_test(dataset):\n",
    "     dftest = adfuller(dataset, autolag = 'AIC')\n",
    "     print(\"1. ADF : \",dftest[0])\n",
    "     print(\"2. P-Value : \", dftest[1])\n",
    "     print(\"3. Num Of Lags : \", dftest[2])\n",
    "     print(\"4. Num Of Observations Used For ADF Regression:\",      dftest[3])\n",
    "     print(\"5. Critical Values :\")\n",
    "     for key, val in dftest[4].items():\n",
    "         print(\"\\t\",key, \": \", val)\n",
    "ad_test(df['DUQ_MW'])"
   ]
  },
  {
   "cell_type": "code",
   "execution_count": 35,
   "id": "6c7fbc80",
   "metadata": {},
   "outputs": [
    {
     "name": "stdout",
     "output_type": "stream",
     "text": [
      "Requirement already satisfied: pmdarima in c:\\users\\hp\\anaconda3\\lib\\site-packages (2.0.1)\n",
      "Requirement already satisfied: scipy>=1.3.2 in c:\\users\\hp\\anaconda3\\lib\\site-packages (from pmdarima) (1.7.3)\n",
      "Note: you may need to restart the kernel to use updated packages.Requirement already satisfied: setuptools!=50.0.0,>=38.6.0 in c:\\users\\hp\\anaconda3\\lib\\site-packages (from pmdarima) (61.2.0)\n",
      "\n",
      "Requirement already satisfied: urllib3 in c:\\users\\hp\\anaconda3\\lib\\site-packages (from pmdarima) (1.26.9)\n",
      "Requirement already satisfied: joblib>=0.11 in c:\\users\\hp\\anaconda3\\lib\\site-packages (from pmdarima) (1.1.0)\n",
      "Requirement already satisfied: scikit-learn>=0.22 in c:\\users\\hp\\anaconda3\\lib\\site-packages (from pmdarima) (1.0.2)\n",
      "Requirement already satisfied: Cython!=0.29.18,!=0.29.31,>=0.29 in c:\\users\\hp\\anaconda3\\lib\\site-packages (from pmdarima) (0.29.28)\n",
      "Requirement already satisfied: statsmodels>=0.13.2 in c:\\users\\hp\\anaconda3\\lib\\site-packages (from pmdarima) (0.13.2)\n",
      "Requirement already satisfied: pandas>=0.19 in c:\\users\\hp\\anaconda3\\lib\\site-packages (from pmdarima) (1.4.2)\n",
      "Requirement already satisfied: numpy>=1.21 in c:\\users\\hp\\anaconda3\\lib\\site-packages (from pmdarima) (1.21.5)\n",
      "Requirement already satisfied: pytz>=2020.1 in c:\\users\\hp\\anaconda3\\lib\\site-packages (from pandas>=0.19->pmdarima) (2021.3)\n",
      "Requirement already satisfied: python-dateutil>=2.8.1 in c:\\users\\hp\\anaconda3\\lib\\site-packages (from pandas>=0.19->pmdarima) (2.8.2)\n",
      "Requirement already satisfied: six>=1.5 in c:\\users\\hp\\anaconda3\\lib\\site-packages (from python-dateutil>=2.8.1->pandas>=0.19->pmdarima) (1.16.0)\n",
      "Requirement already satisfied: threadpoolctl>=2.0.0 in c:\\users\\hp\\anaconda3\\lib\\site-packages (from scikit-learn>=0.22->pmdarima) (2.2.0)\n",
      "Requirement already satisfied: patsy>=0.5.2 in c:\\users\\hp\\anaconda3\\lib\\site-packages (from statsmodels>=0.13.2->pmdarima) (0.5.2)\n",
      "Requirement already satisfied: packaging>=21.3 in c:\\users\\hp\\anaconda3\\lib\\site-packages (from statsmodels>=0.13.2->pmdarima) (21.3)\n",
      "Requirement already satisfied: pyparsing!=3.0.5,>=2.0.2 in c:\\users\\hp\\anaconda3\\lib\\site-packages (from packaging>=21.3->statsmodels>=0.13.2->pmdarima) (3.0.4)\n"
     ]
    }
   ],
   "source": [
    "pip install pmdarima"
   ]
  },
  {
   "cell_type": "code",
   "execution_count": 53,
   "id": "5be8992f",
   "metadata": {},
   "outputs": [
    {
     "name": "stdout",
     "output_type": "stream",
     "text": [
      "Performing stepwise search to minimize aic\n",
      " ARIMA(2,0,2)(0,0,0)[0] intercept   : AIC=1268297.534, Time=211.96 sec\n",
      " ARIMA(0,0,0)(0,0,0)[0] intercept   : AIC=1353873.238, Time=3.78 sec\n",
      " ARIMA(1,0,0)(0,0,0)[0] intercept   : AIC=1289412.107, Time=4.72 sec\n",
      " ARIMA(0,0,1)(0,0,0)[0] intercept   : AIC=1312404.737, Time=37.31 sec\n",
      " ARIMA(0,0,0)(0,0,0)[0]             : AIC=1353871.238, Time=2.04 sec\n",
      " ARIMA(1,0,2)(0,0,0)[0] intercept   : AIC=1288083.908, Time=39.16 sec\n",
      " ARIMA(2,0,1)(0,0,0)[0] intercept   : AIC=1288325.900, Time=62.91 sec\n",
      " ARIMA(3,0,2)(0,0,0)[0] intercept   : AIC=1268799.873, Time=332.12 sec\n",
      " ARIMA(2,0,3)(0,0,0)[0] intercept   : AIC=1263531.142, Time=401.67 sec\n",
      " ARIMA(1,0,3)(0,0,0)[0] intercept   : AIC=1287706.831, Time=119.91 sec\n",
      " ARIMA(3,0,3)(0,0,0)[0] intercept   : AIC=inf, Time=464.10 sec\n",
      " ARIMA(2,0,4)(0,0,0)[0] intercept   : AIC=1261738.234, Time=284.42 sec\n",
      " ARIMA(1,0,4)(0,0,0)[0] intercept   : AIC=inf, Time=235.18 sec\n",
      " ARIMA(3,0,4)(0,0,0)[0] intercept   : AIC=1261587.732, Time=411.65 sec\n",
      " ARIMA(4,0,4)(0,0,0)[0] intercept   : AIC=1266048.083, Time=471.66 sec\n",
      " ARIMA(3,0,5)(0,0,0)[0] intercept   : AIC=1278114.065, Time=337.16 sec\n",
      " ARIMA(2,0,5)(0,0,0)[0] intercept   : AIC=1277775.654, Time=373.38 sec\n",
      " ARIMA(4,0,3)(0,0,0)[0] intercept   : AIC=inf, Time=416.85 sec\n",
      " ARIMA(4,0,5)(0,0,0)[0] intercept   : AIC=1280188.682, Time=404.02 sec\n",
      " ARIMA(3,0,4)(0,0,0)[0]             : AIC=1261591.480, Time=91.67 sec\n",
      "\n",
      "Best model:  ARIMA(3,0,4)(0,0,0)[0] intercept\n",
      "Total fit time: 4705.771 seconds\n"
     ]
    }
   ],
   "source": [
    "from pmdarima import auto_arima\n",
    "stepwise_fit = auto_arima(df['DUQ_MW'], trace=True,\n",
    "suppress_warnings=True)"
   ]
  },
  {
   "cell_type": "markdown",
   "id": "7e314b8a",
   "metadata": {},
   "source": [
    "### TRAIN TEST SPLIT"
   ]
  },
  {
   "cell_type": "code",
   "execution_count": 37,
   "id": "f990465f",
   "metadata": {},
   "outputs": [],
   "source": [
    "df = df.set_index('Datetime')\n",
    "df.index = pd.to_datetime(df.index)"
   ]
  },
  {
   "cell_type": "code",
   "execution_count": 38,
   "id": "45e8435f",
   "metadata": {},
   "outputs": [
    {
     "data": {
      "image/png": "[encoded data removed]",
      "text/plain": [
       "<Figure size 1080x360 with 1 Axes>"
      ]
     },
     "metadata": {
      "needs_background": "light"
     },
     "output_type": "display_data"
    }
   ],
   "source": [
    "train = df.loc[df.index < '01-01-2016']\n",
    "test = df.loc[df.index >= '01-01-2016']\n",
    "\n",
    "fig, ax = plt.subplots(figsize=(15, 5))\n",
    "train.plot(ax=ax, label='Training Set', title='Data Train/Test Split')\n",
    "test.plot(ax=ax, label='Test Set',color='r')\n",
    "ax.axvline('01-01-2016', color='black', ls='--')\n",
    "ax.legend(['Training Set', 'Test Set'])\n",
    "plt.show()"
   ]
  },
  {
   "cell_type": "code",
   "execution_count": 39,
   "id": "ea80cfee",
   "metadata": {},
   "outputs": [
    {
     "name": "stdout",
     "output_type": "stream",
     "text": [
      "(96387, 1) (22680, 1)\n"
     ]
    }
   ],
   "source": [
    "print(train.shape,test.shape)"
   ]
  },
  {
   "cell_type": "markdown",
   "id": "d496e1a4",
   "metadata": {},
   "source": [
    "## MODELS"
   ]
  },
  {
   "cell_type": "code",
   "execution_count": 40,
   "id": "3847c9f3",
   "metadata": {},
   "outputs": [],
   "source": [
    "import statsmodels.api as sm\n",
    "from statsmodels.tsa.arima_model import ARIMA"
   ]
  },
  {
   "cell_type": "code",
   "execution_count": 41,
   "id": "d9b8cb83",
   "metadata": {},
   "outputs": [
    {
     "data": {
      "text/html": [
       "<table class=\"simpletable\">\n",
       "<caption>SARIMAX Results</caption>\n",
       "<tr>\n",
       "  <th>Dep. Variable:</th>        <td>DUQ_MW</td>      <th>  No. Observations:  </th>    <td>96387</td>   \n",
       "</tr>\n",
       "<tr>\n",
       "  <th>Model:</th>            <td>ARIMA(3, 0, 4)</td>  <th>  Log Likelihood     </th> <td>-512411.168</td>\n",
       "</tr>\n",
       "<tr>\n",
       "  <th>Date:</th>            <td>Sun, 18 Sep 2022</td> <th>  AIC                </th> <td>1024840.337</td>\n",
       "</tr>\n",
       "<tr>\n",
       "  <th>Time:</th>                <td>23:14:16</td>     <th>  BIC                </th> <td>1024925.622</td>\n",
       "</tr>\n",
       "<tr>\n",
       "  <th>Sample:</th>                  <td>0</td>        <th>  HQIC               </th> <td>1024866.262</td>\n",
       "</tr>\n",
       "<tr>\n",
       "  <th></th>                     <td> - 96387</td>     <th>                     </th>      <td> </td>     \n",
       "</tr>\n",
       "<tr>\n",
       "  <th>Covariance Type:</th>        <td>opg</td>       <th>                     </th>      <td> </td>     \n",
       "</tr>\n",
       "</table>\n",
       "<table class=\"simpletable\">\n",
       "<tr>\n",
       "     <td></td>       <th>coef</th>     <th>std err</th>      <th>z</th>      <th>P>|z|</th>  <th>[0.025</th>    <th>0.975]</th>  \n",
       "</tr>\n",
       "<tr>\n",
       "  <th>const</th>  <td>    0.0023</td> <td>    0.108</td> <td>    0.021</td> <td> 0.983</td> <td>   -0.209</td> <td>    0.213</td>\n",
       "</tr>\n",
       "<tr>\n",
       "  <th>ar.L1</th>  <td>    2.2803</td> <td>    0.024</td> <td>   94.943</td> <td> 0.000</td> <td>    2.233</td> <td>    2.327</td>\n",
       "</tr>\n",
       "<tr>\n",
       "  <th>ar.L2</th>  <td>   -1.6861</td> <td>    0.046</td> <td>  -36.856</td> <td> 0.000</td> <td>   -1.776</td> <td>   -1.596</td>\n",
       "</tr>\n",
       "<tr>\n",
       "  <th>ar.L3</th>  <td>    0.3672</td> <td>    0.023</td> <td>   15.779</td> <td> 0.000</td> <td>    0.322</td> <td>    0.413</td>\n",
       "</tr>\n",
       "<tr>\n",
       "  <th>ma.L1</th>  <td>   -1.9067</td> <td>    0.024</td> <td>  -79.571</td> <td> 0.000</td> <td>   -1.954</td> <td>   -1.860</td>\n",
       "</tr>\n",
       "<tr>\n",
       "  <th>ma.L2</th>  <td>    0.9952</td> <td>    0.037</td> <td>   26.859</td> <td> 0.000</td> <td>    0.923</td> <td>    1.068</td>\n",
       "</tr>\n",
       "<tr>\n",
       "  <th>ma.L3</th>  <td>   -0.1054</td> <td>    0.010</td> <td>  -10.542</td> <td> 0.000</td> <td>   -0.125</td> <td>   -0.086</td>\n",
       "</tr>\n",
       "<tr>\n",
       "  <th>ma.L4</th>  <td>    0.0388</td> <td>    0.007</td> <td>    5.496</td> <td> 0.000</td> <td>    0.025</td> <td>    0.053</td>\n",
       "</tr>\n",
       "<tr>\n",
       "  <th>sigma2</th> <td> 2444.5145</td> <td>    4.964</td> <td>  492.473</td> <td> 0.000</td> <td> 2434.786</td> <td> 2454.243</td>\n",
       "</tr>\n",
       "</table>\n",
       "<table class=\"simpletable\">\n",
       "<tr>\n",
       "  <th>Ljung-Box (L1) (Q):</th>     <td>0.21</td> <th>  Jarque-Bera (JB):  </th> <td>555429.62</td>\n",
       "</tr>\n",
       "<tr>\n",
       "  <th>Prob(Q):</th>                <td>0.65</td> <th>  Prob(JB):          </th>   <td>0.00</td>   \n",
       "</tr>\n",
       "<tr>\n",
       "  <th>Heteroskedasticity (H):</th> <td>1.01</td> <th>  Skew:              </th>   <td>-0.08</td>  \n",
       "</tr>\n",
       "<tr>\n",
       "  <th>Prob(H) (two-sided):</th>    <td>0.43</td> <th>  Kurtosis:          </th>   <td>14.76</td>  \n",
       "</tr>\n",
       "</table><br/><br/>Warnings:<br/>[1] Covariance matrix calculated using the outer product of gradients (complex-step)."
      ],
      "text/plain": [
       "<class 'statsmodels.iolib.summary.Summary'>\n",
       "\"\"\"\n",
       "                               SARIMAX Results                                \n",
       "==============================================================================\n",
       "Dep. Variable:                 DUQ_MW   No. Observations:                96387\n",
       "Model:                 ARIMA(3, 0, 4)   Log Likelihood             -512411.168\n",
       "Date:                Sun, 18 Sep 2022   AIC                        1024840.337\n",
       "Time:                        23:14:16   BIC                        1024925.622\n",
       "Sample:                             0   HQIC                       1024866.262\n",
       "                              - 96387                                         \n",
       "Covariance Type:                  opg                                         \n",
       "==============================================================================\n",
       "                 coef    std err          z      P>|z|      [0.025      0.975]\n",
       "------------------------------------------------------------------------------\n",
       "const          0.0023      0.108      0.021      0.983      -0.209       0.213\n",
       "ar.L1          2.2803      0.024     94.943      0.000       2.233       2.327\n",
       "ar.L2         -1.6861      0.046    -36.856      0.000      -1.776      -1.596\n",
       "ar.L3          0.3672      0.023     15.779      0.000       0.322       0.413\n",
       "ma.L1         -1.9067      0.024    -79.571      0.000      -1.954      -1.860\n",
       "ma.L2          0.9952      0.037     26.859      0.000       0.923       1.068\n",
       "ma.L3         -0.1054      0.010    -10.542      0.000      -0.125      -0.086\n",
       "ma.L4          0.0388      0.007      5.496      0.000       0.025       0.053\n",
       "sigma2      2444.5145      4.964    492.473      0.000    2434.786    2454.243\n",
       "===================================================================================\n",
       "Ljung-Box (L1) (Q):                   0.21   Jarque-Bera (JB):            555429.62\n",
       "Prob(Q):                              0.65   Prob(JB):                         0.00\n",
       "Heteroskedasticity (H):               1.01   Skew:                            -0.08\n",
       "Prob(H) (two-sided):                  0.43   Kurtosis:                        14.76\n",
       "===================================================================================\n",
       "\n",
       "Warnings:\n",
       "[1] Covariance matrix calculated using the outer product of gradients (complex-step).\n",
       "\"\"\""
      ]
     },
     "execution_count": 41,
     "metadata": {},
     "output_type": "execute_result"
    }
   ],
   "source": [
    "import warnings\n",
    "warnings.filterwarnings(\"ignore\")\n",
    "model=sm.tsa.ARIMA(train['DUQ_MW'],order=(3,0,4))\n",
    "model=model.fit()\n",
    "model.summary()"
   ]
  },
  {
   "cell_type": "code",
   "execution_count": 42,
   "id": "0d5e3754",
   "metadata": {},
   "outputs": [],
   "source": [
    "start=len(train)\n",
    "end=len(train)+len(test)-1\n",
    "pred=model.predict(start=start,end=end)"
   ]
  },
  {
   "cell_type": "code",
   "execution_count": 43,
   "id": "9c509e93",
   "metadata": {},
   "outputs": [
    {
     "name": "stdout",
     "output_type": "stream",
     "text": [
      "67.48176385315581\n"
     ]
    }
   ],
   "source": [
    "from sklearn.metrics import mean_squared_error\n",
    "from math import sqrt\n",
    "test['DUQ_MW'].mean()\n",
    "rmse=sqrt(mean_squared_error(pred,test['DUQ_MW']))\n",
    "print(rmse)"
   ]
  },
  {
   "cell_type": "markdown",
   "id": "f33d4b51",
   "metadata": {},
   "source": [
    "### SARIMAX"
   ]
  },
  {
   "cell_type": "code",
   "execution_count": 48,
   "id": "1b12b1fd",
   "metadata": {},
   "outputs": [],
   "source": [
    "model2=sm.tsa.statespace.SARIMAX(train['DUQ_MW'],order=(3,1,4),trend='c')\n",
    "result2=model2.fit()"
   ]
  },
  {
   "cell_type": "code",
   "execution_count": 49,
   "id": "2714987e",
   "metadata": {},
   "outputs": [
    {
     "data": {
      "text/html": [
       "<table class=\"simpletable\">\n",
       "<caption>SARIMAX Results</caption>\n",
       "<tr>\n",
       "  <th>Dep. Variable:</th>        <td>DUQ_MW</td>      <th>  No. Observations:  </th>    <td>96387</td>   \n",
       "</tr>\n",
       "<tr>\n",
       "  <th>Model:</th>           <td>SARIMAX(3, 1, 4)</td> <th>  Log Likelihood     </th> <td>-523052.785</td>\n",
       "</tr>\n",
       "<tr>\n",
       "  <th>Date:</th>            <td>Sun, 18 Sep 2022</td> <th>  AIC                </th> <td>1046123.571</td>\n",
       "</tr>\n",
       "<tr>\n",
       "  <th>Time:</th>                <td>23:28:56</td>     <th>  BIC                </th> <td>1046208.856</td>\n",
       "</tr>\n",
       "<tr>\n",
       "  <th>Sample:</th>                  <td>0</td>        <th>  HQIC               </th> <td>1046149.496</td>\n",
       "</tr>\n",
       "<tr>\n",
       "  <th></th>                     <td> - 96387</td>     <th>                     </th>      <td> </td>     \n",
       "</tr>\n",
       "<tr>\n",
       "  <th>Covariance Type:</th>        <td>opg</td>       <th>                     </th>      <td> </td>     \n",
       "</tr>\n",
       "</table>\n",
       "<table class=\"simpletable\">\n",
       "<tr>\n",
       "      <td></td>         <th>coef</th>     <th>std err</th>      <th>z</th>      <th>P>|z|</th>  <th>[0.025</th>    <th>0.975]</th>  \n",
       "</tr>\n",
       "<tr>\n",
       "  <th>intercept</th> <td>    0.0008</td> <td>    0.002</td> <td>    0.484</td> <td> 0.628</td> <td>   -0.002</td> <td>    0.004</td>\n",
       "</tr>\n",
       "<tr>\n",
       "  <th>ar.L1</th>     <td>   -0.6233</td> <td>    0.005</td> <td> -130.452</td> <td> 0.000</td> <td>   -0.633</td> <td>   -0.614</td>\n",
       "</tr>\n",
       "<tr>\n",
       "  <th>ar.L2</th>     <td>   -0.0738</td> <td>    0.005</td> <td>  -14.575</td> <td> 0.000</td> <td>   -0.084</td> <td>   -0.064</td>\n",
       "</tr>\n",
       "<tr>\n",
       "  <th>ar.L3</th>     <td>    0.6515</td> <td>    0.004</td> <td>  144.866</td> <td> 0.000</td> <td>    0.643</td> <td>    0.660</td>\n",
       "</tr>\n",
       "<tr>\n",
       "  <th>ma.L1</th>     <td>    0.2320</td> <td>    0.005</td> <td>   43.030</td> <td> 0.000</td> <td>    0.221</td> <td>    0.243</td>\n",
       "</tr>\n",
       "<tr>\n",
       "  <th>ma.L2</th>     <td>   -0.3347</td> <td>    0.003</td> <td> -112.943</td> <td> 0.000</td> <td>   -0.340</td> <td>   -0.329</td>\n",
       "</tr>\n",
       "<tr>\n",
       "  <th>ma.L3</th>     <td>   -0.9383</td> <td>    0.003</td> <td> -303.119</td> <td> 0.000</td> <td>   -0.944</td> <td>   -0.932</td>\n",
       "</tr>\n",
       "<tr>\n",
       "  <th>ma.L4</th>     <td>    0.0421</td> <td>    0.005</td> <td>    8.833</td> <td> 0.000</td> <td>    0.033</td> <td>    0.051</td>\n",
       "</tr>\n",
       "<tr>\n",
       "  <th>sigma2</th>    <td> 3278.3741</td> <td>    7.654</td> <td>  428.335</td> <td> 0.000</td> <td> 3263.373</td> <td> 3293.375</td>\n",
       "</tr>\n",
       "</table>\n",
       "<table class=\"simpletable\">\n",
       "<tr>\n",
       "  <th>Ljung-Box (L1) (Q):</th>     <td>24.73</td> <th>  Jarque-Bera (JB):  </th> <td>384242.38</td>\n",
       "</tr>\n",
       "<tr>\n",
       "  <th>Prob(Q):</th>                <td>0.00</td>  <th>  Prob(JB):          </th>   <td>0.00</td>   \n",
       "</tr>\n",
       "<tr>\n",
       "  <th>Heteroskedasticity (H):</th> <td>1.00</td>  <th>  Skew:              </th>   <td>-0.23</td>  \n",
       "</tr>\n",
       "<tr>\n",
       "  <th>Prob(H) (two-sided):</th>    <td>0.89</td>  <th>  Kurtosis:          </th>   <td>12.77</td>  \n",
       "</tr>\n",
       "</table><br/><br/>Warnings:<br/>[1] Covariance matrix calculated using the outer product of gradients (complex-step)."
      ],
      "text/plain": [
       "<class 'statsmodels.iolib.summary.Summary'>\n",
       "\"\"\"\n",
       "                               SARIMAX Results                                \n",
       "==============================================================================\n",
       "Dep. Variable:                 DUQ_MW   No. Observations:                96387\n",
       "Model:               SARIMAX(3, 1, 4)   Log Likelihood             -523052.785\n",
       "Date:                Sun, 18 Sep 2022   AIC                        1046123.571\n",
       "Time:                        23:28:56   BIC                        1046208.856\n",
       "Sample:                             0   HQIC                       1046149.496\n",
       "                              - 96387                                         \n",
       "Covariance Type:                  opg                                         \n",
       "==============================================================================\n",
       "                 coef    std err          z      P>|z|      [0.025      0.975]\n",
       "------------------------------------------------------------------------------\n",
       "intercept      0.0008      0.002      0.484      0.628      -0.002       0.004\n",
       "ar.L1         -0.6233      0.005   -130.452      0.000      -0.633      -0.614\n",
       "ar.L2         -0.0738      0.005    -14.575      0.000      -0.084      -0.064\n",
       "ar.L3          0.6515      0.004    144.866      0.000       0.643       0.660\n",
       "ma.L1          0.2320      0.005     43.030      0.000       0.221       0.243\n",
       "ma.L2         -0.3347      0.003   -112.943      0.000      -0.340      -0.329\n",
       "ma.L3         -0.9383      0.003   -303.119      0.000      -0.944      -0.932\n",
       "ma.L4          0.0421      0.005      8.833      0.000       0.033       0.051\n",
       "sigma2      3278.3741      7.654    428.335      0.000    3263.373    3293.375\n",
       "===================================================================================\n",
       "Ljung-Box (L1) (Q):                  24.73   Jarque-Bera (JB):            384242.38\n",
       "Prob(Q):                              0.00   Prob(JB):                         0.00\n",
       "Heteroskedasticity (H):               1.00   Skew:                            -0.23\n",
       "Prob(H) (two-sided):                  0.89   Kurtosis:                        12.77\n",
       "===================================================================================\n",
       "\n",
       "Warnings:\n",
       "[1] Covariance matrix calculated using the outer product of gradients (complex-step).\n",
       "\"\"\""
      ]
     },
     "execution_count": 49,
     "metadata": {},
     "output_type": "execute_result"
    }
   ],
   "source": [
    "result2.summary()"
   ]
  },
  {
   "cell_type": "code",
   "execution_count": 50,
   "id": "0705ba3e",
   "metadata": {},
   "outputs": [],
   "source": [
    "start=len(train)\n",
    "end=len(train)+len(test)-1\n",
    "pred2=result2.predict(start = start, end = end, dynamic= True)\n"
   ]
  },
  {
   "cell_type": "code",
   "execution_count": 51,
   "id": "33dcb22a",
   "metadata": {},
   "outputs": [
    {
     "name": "stdout",
     "output_type": "stream",
     "text": [
      "68.515717572227\n"
     ]
    }
   ],
   "source": [
    "test['DUQ_MW'].mean()\n",
    "rmse2=sqrt(mean_squared_error(pred2,test['DUQ_MW']))\n",
    "print(rmse2)"
   ]
  },
  {
   "cell_type": "code",
   "execution_count": null,
   "id": "1eeba155",
   "metadata": {},
   "outputs": [],
   "source": []
  }
 ],
 "metadata": {
  "kernelspec": {
   "display_name": "Python 3 (ipykernel)",
   "language": "python",
   "name": "python3"
  },
  "language_info": {
   "codemirror_mode": {
    "name": "ipython",
    "version": 3
   },
   "file_extension": ".py",
   "mimetype": "text/x-python",
   "name": "python",
   "nbconvert_exporter": "python",
   "pygments_lexer": "ipython3",
   "version": "3.9.12"
  }
 },
 "nbformat": 4,
 "nbformat_minor": 5
}
