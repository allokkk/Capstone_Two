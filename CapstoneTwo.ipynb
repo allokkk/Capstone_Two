{
 "cells": [
  {
   "cell_type": "markdown",
   "id": "f803da88",
   "metadata": {},
   "source": [
    "# PJM Hourly Energy Consumption "
   ]
  },
  {
   "cell_type": "markdown",
   "id": "3eb62e74",
   "metadata": {},
   "source": [
    "Data Description\n",
    "We will be analyzing hourly energy consumption data provided by PJM Interconnection. PJM Interconnection is a regional transmission organization (RTO) that coordinates distribution of electricity across a region including all or parts of 14 states in the northeastern United States. The data we will be looking at is composed of hourly energy consumption data from Duquesne Light Co. from January 1, 2005 to August 3, 2018. Duquesne Light Co. serves the Pittsburgh, PA, metropolitan area as well as large segments of Allegheny and Beaver Counties. "
   ]
  },
  {
   "cell_type": "code",
   "execution_count": 111,
   "id": "27b8cf9b",
   "metadata": {},
   "outputs": [
    {
     "data": {
      "text/html": [
       "<img src=\"https://miro.medium.com/max/700/1*V83Sf232oYRBWoEgnbvsVw.png\"/>"
      ],
      "text/plain": [
       "<IPython.core.display.Image object>"
      ]
     },
     "execution_count": 111,
     "metadata": {},
     "output_type": "execute_result"
    }
   ],
   "source": [
    "# Show PJM Regions\n",
    "from IPython.display import Image\n",
    "Image(url= \"https://miro.medium.com/max/700/1*V83Sf232oYRBWoEgnbvsVw.png\")"
   ]
  },
  {
   "cell_type": "markdown",
   "id": "21a9ddf7",
   "metadata": {},
   "source": [
    "Regions joined at different times, so not all have data for all dates. Regions also split (PJM_Load split to East and West)"
   ]
  },
  {
   "cell_type": "code",
   "execution_count": 112,
   "id": "14c84f8e",
   "metadata": {},
   "outputs": [
    {
     "data": {
      "text/html": [
       "<img src=\"http://slideplayer.com/4238181/14/images/4/PJM+Evolution.jpg\"/>"
      ],
      "text/plain": [
       "<IPython.core.display.Image object>"
      ]
     },
     "execution_count": 112,
     "metadata": {},
     "output_type": "execute_result"
    }
   ],
   "source": [
    "# Show PJM Regions\n",
    "from IPython.display import Image\n",
    "Image(url= \"http://slideplayer.com/4238181/14/images/4/PJM+Evolution.jpg\")"
   ]
  },
  {
   "cell_type": "code",
   "execution_count": 113,
   "id": "fe81a61e",
   "metadata": {},
   "outputs": [],
   "source": [
    "# Load Modules\n",
    "import numpy as np \n",
    "import pandas as pd\n",
    "from matplotlib import ticker\n",
    "import matplotlib\n",
    "import matplotlib.pyplot as plt\n",
    "import seaborn as sns\n",
    "from statsmodels.graphics.tsaplots import plot_acf, plot_pacf, month_plot"
   ]
  },
  {
   "cell_type": "markdown",
   "id": "7a7c7bfe",
   "metadata": {},
   "source": [
    "Explorring the data\n"
   ]
  },
  {
   "cell_type": "markdown",
   "id": "18c5c271",
   "metadata": {},
   "source": [
    "Data Collection"
   ]
  },
  {
   "cell_type": "code",
   "execution_count": 114,
   "id": "3413e6ac",
   "metadata": {},
   "outputs": [],
   "source": [
    "#read file\n",
    "data=pd.read_csv('archive/DUQ_hourly.csv')"
   ]
  },
  {
   "cell_type": "markdown",
   "id": "968d49aa",
   "metadata": {},
   "source": [
    "Data Definition\n"
   ]
  },
  {
   "cell_type": "code",
   "execution_count": 115,
   "id": "6262d04a",
   "metadata": {},
   "outputs": [
    {
     "data": {
      "text/plain": [
       "(119068, 2)"
      ]
     },
     "execution_count": 115,
     "metadata": {},
     "output_type": "execute_result"
    }
   ],
   "source": [
    "data.shape"
   ]
  },
  {
   "cell_type": "code",
   "execution_count": 116,
   "id": "e838c1a3",
   "metadata": {},
   "outputs": [
    {
     "name": "stdout",
     "output_type": "stream",
     "text": [
      "<class 'pandas.core.frame.DataFrame'>\n",
      "RangeIndex: 119068 entries, 0 to 119067\n",
      "Data columns (total 2 columns):\n",
      " #   Column    Non-Null Count   Dtype  \n",
      "---  ------    --------------   -----  \n",
      " 0   Datetime  119068 non-null  object \n",
      " 1   DUQ_MW    119068 non-null  float64\n",
      "dtypes: float64(1), object(1)\n",
      "memory usage: 1.8+ MB\n"
     ]
    }
   ],
   "source": [
    "data.info()"
   ]
  },
  {
   "cell_type": "code",
   "execution_count": 117,
   "id": "85a6533d",
   "metadata": {},
   "outputs": [
    {
     "name": "stdout",
     "output_type": "stream",
     "text": [
      "              Datetime  DUQ_MW\n",
      "0  2005-12-31 01:00:00  1458.0\n",
      "1  2005-12-31 02:00:00  1377.0\n",
      "2  2005-12-31 03:00:00  1351.0\n",
      "3  2005-12-31 04:00:00  1336.0\n",
      "4  2005-12-31 05:00:00  1356.0\n",
      "5  2005-12-31 06:00:00  1372.0\n",
      "6  2005-12-31 07:00:00  1402.0\n",
      "7  2005-12-31 08:00:00  1425.0\n",
      "8  2005-12-31 09:00:00  1502.0\n",
      "9  2005-12-31 10:00:00  1556.0\n"
     ]
    }
   ],
   "source": [
    "print(data.head(10))"
   ]
  },
  {
   "cell_type": "markdown",
   "id": "0280d485",
   "metadata": {},
   "source": [
    "Transposing the data To see the energy consumed in each date time"
   ]
  },
  {
   "cell_type": "code",
   "execution_count": 118,
   "id": "6a7c2c50",
   "metadata": {},
   "outputs": [
    {
     "name": "stdout",
     "output_type": "stream",
     "text": [
      "Index(['Datetime', 'DUQ_MW'], dtype='object')\n"
     ]
    }
   ],
   "source": [
    "print(data.columns)"
   ]
  },
  {
   "cell_type": "code",
   "execution_count": 119,
   "id": "90e43893",
   "metadata": {},
   "outputs": [
    {
     "data": {
      "text/plain": [
       "<bound method NDFrame.describe of                    Datetime  DUQ_MW\n",
       "0       2005-12-31 01:00:00  1458.0\n",
       "1       2005-12-31 02:00:00  1377.0\n",
       "2       2005-12-31 03:00:00  1351.0\n",
       "3       2005-12-31 04:00:00  1336.0\n",
       "4       2005-12-31 05:00:00  1356.0\n",
       "...                     ...     ...\n",
       "119063  2018-01-01 20:00:00  1962.0\n",
       "119064  2018-01-01 21:00:00  1940.0\n",
       "119065  2018-01-01 22:00:00  1891.0\n",
       "119066  2018-01-01 23:00:00  1820.0\n",
       "119067  2018-01-02 00:00:00  1721.0\n",
       "\n",
       "[119068 rows x 2 columns]>"
      ]
     },
     "execution_count": 119,
     "metadata": {},
     "output_type": "execute_result"
    }
   ],
   "source": [
    "data.describe"
   ]
  },
  {
   "cell_type": "code",
   "execution_count": 120,
   "id": "d131d018",
   "metadata": {},
   "outputs": [
    {
     "data": {
      "text/html": [
       "<div>\n",
       "<style scoped>\n",
       "    .dataframe tbody tr th:only-of-type {\n",
       "        vertical-align: middle;\n",
       "    }\n",
       "\n",
       "    .dataframe tbody tr th {\n",
       "        vertical-align: top;\n",
       "    }\n",
       "\n",
       "    .dataframe thead th {\n",
       "        text-align: right;\n",
       "    }\n",
       "</style>\n",
       "<table border=\"1\" class=\"dataframe\">\n",
       "  <thead>\n",
       "    <tr style=\"text-align: right;\">\n",
       "      <th></th>\n",
       "      <th>0</th>\n",
       "      <th>1</th>\n",
       "      <th>2</th>\n",
       "      <th>3</th>\n",
       "      <th>4</th>\n",
       "      <th>5</th>\n",
       "      <th>6</th>\n",
       "      <th>7</th>\n",
       "      <th>8</th>\n",
       "      <th>9</th>\n",
       "      <th>...</th>\n",
       "      <th>119058</th>\n",
       "      <th>119059</th>\n",
       "      <th>119060</th>\n",
       "      <th>119061</th>\n",
       "      <th>119062</th>\n",
       "      <th>119063</th>\n",
       "      <th>119064</th>\n",
       "      <th>119065</th>\n",
       "      <th>119066</th>\n",
       "      <th>119067</th>\n",
       "    </tr>\n",
       "  </thead>\n",
       "  <tbody>\n",
       "    <tr>\n",
       "      <th>Datetime</th>\n",
       "      <td>2005-12-31 01:00:00</td>\n",
       "      <td>2005-12-31 02:00:00</td>\n",
       "      <td>2005-12-31 03:00:00</td>\n",
       "      <td>2005-12-31 04:00:00</td>\n",
       "      <td>2005-12-31 05:00:00</td>\n",
       "      <td>2005-12-31 06:00:00</td>\n",
       "      <td>2005-12-31 07:00:00</td>\n",
       "      <td>2005-12-31 08:00:00</td>\n",
       "      <td>2005-12-31 09:00:00</td>\n",
       "      <td>2005-12-31 10:00:00</td>\n",
       "      <td>...</td>\n",
       "      <td>2018-01-01 15:00:00</td>\n",
       "      <td>2018-01-01 16:00:00</td>\n",
       "      <td>2018-01-01 17:00:00</td>\n",
       "      <td>2018-01-01 18:00:00</td>\n",
       "      <td>2018-01-01 19:00:00</td>\n",
       "      <td>2018-01-01 20:00:00</td>\n",
       "      <td>2018-01-01 21:00:00</td>\n",
       "      <td>2018-01-01 22:00:00</td>\n",
       "      <td>2018-01-01 23:00:00</td>\n",
       "      <td>2018-01-02 00:00:00</td>\n",
       "    </tr>\n",
       "    <tr>\n",
       "      <th>DUQ_MW</th>\n",
       "      <td>1458.0</td>\n",
       "      <td>1377.0</td>\n",
       "      <td>1351.0</td>\n",
       "      <td>1336.0</td>\n",
       "      <td>1356.0</td>\n",
       "      <td>1372.0</td>\n",
       "      <td>1402.0</td>\n",
       "      <td>1425.0</td>\n",
       "      <td>1502.0</td>\n",
       "      <td>1556.0</td>\n",
       "      <td>...</td>\n",
       "      <td>1811.0</td>\n",
       "      <td>1828.0</td>\n",
       "      <td>1858.0</td>\n",
       "      <td>1960.0</td>\n",
       "      <td>1968.0</td>\n",
       "      <td>1962.0</td>\n",
       "      <td>1940.0</td>\n",
       "      <td>1891.0</td>\n",
       "      <td>1820.0</td>\n",
       "      <td>1721.0</td>\n",
       "    </tr>\n",
       "  </tbody>\n",
       "</table>\n",
       "<p>2 rows × 119068 columns</p>\n",
       "</div>"
      ],
      "text/plain": [
       "                       0                    1                    2       \\\n",
       "Datetime  2005-12-31 01:00:00  2005-12-31 02:00:00  2005-12-31 03:00:00   \n",
       "DUQ_MW                 1458.0               1377.0               1351.0   \n",
       "\n",
       "                       3                    4                    5       \\\n",
       "Datetime  2005-12-31 04:00:00  2005-12-31 05:00:00  2005-12-31 06:00:00   \n",
       "DUQ_MW                 1336.0               1356.0               1372.0   \n",
       "\n",
       "                       6                    7                    8       \\\n",
       "Datetime  2005-12-31 07:00:00  2005-12-31 08:00:00  2005-12-31 09:00:00   \n",
       "DUQ_MW                 1402.0               1425.0               1502.0   \n",
       "\n",
       "                       9       ...               119058               119059  \\\n",
       "Datetime  2005-12-31 10:00:00  ...  2018-01-01 15:00:00  2018-01-01 16:00:00   \n",
       "DUQ_MW                 1556.0  ...               1811.0               1828.0   \n",
       "\n",
       "                       119060               119061               119062  \\\n",
       "Datetime  2018-01-01 17:00:00  2018-01-01 18:00:00  2018-01-01 19:00:00   \n",
       "DUQ_MW                 1858.0               1960.0               1968.0   \n",
       "\n",
       "                       119063               119064               119065  \\\n",
       "Datetime  2018-01-01 20:00:00  2018-01-01 21:00:00  2018-01-01 22:00:00   \n",
       "DUQ_MW                 1962.0               1940.0               1891.0   \n",
       "\n",
       "                       119066               119067  \n",
       "Datetime  2018-01-01 23:00:00  2018-01-02 00:00:00  \n",
       "DUQ_MW                 1820.0               1721.0  \n",
       "\n",
       "[2 rows x 119068 columns]"
      ]
     },
     "execution_count": 120,
     "metadata": {},
     "output_type": "execute_result"
    }
   ],
   "source": [
    "data.T"
   ]
  },
  {
   "cell_type": "code",
   "execution_count": 121,
   "id": "8dc77602",
   "metadata": {},
   "outputs": [
    {
     "data": {
      "text/plain": [
       "2005-12-31 01:00:00    1\n",
       "2005-12-31 02:00:00    1\n",
       "2005-12-31 03:00:00    1\n",
       "2005-12-31 04:00:00    1\n",
       "2005-12-31 05:00:00    1\n",
       "                      ..\n",
       "2018-01-01 20:00:00    1\n",
       "2018-01-01 21:00:00    1\n",
       "2018-01-01 22:00:00    1\n",
       "2018-01-01 23:00:00    1\n",
       "2018-01-02 00:00:00    1\n",
       "Name: Datetime, Length: 119064, dtype: int64"
      ]
     },
     "execution_count": 121,
     "metadata": {},
     "output_type": "execute_result"
    }
   ],
   "source": [
    "data['Datetime'].value_counts( sort=False)"
   ]
  },
  {
   "cell_type": "code",
   "execution_count": 122,
   "id": "81392307",
   "metadata": {},
   "outputs": [
    {
     "data": {
      "text/plain": [
       "(1011.9590000000001, 1218.0]     4785\n",
       "(1218.0, 1422.0]                21875\n",
       "(1422.0, 1626.0]                32388\n",
       "(1626.0, 1830.0]                31563\n",
       "(1830.0, 2034.0]                16341\n",
       "(2034.0, 2238.0]                 6117\n",
       "(2238.0, 2442.0]                 3470\n",
       "(2442.0, 2646.0]                 1744\n",
       "(2646.0, 2850.0]                  667\n",
       "(2850.0, 3054.0]                  118\n",
       "Name: DUQ_MW, dtype: int64"
      ]
     },
     "execution_count": 122,
     "metadata": {},
     "output_type": "execute_result"
    }
   ],
   "source": [
    "data['DUQ_MW'].value_counts(bins=10, sort=False)"
   ]
  },
  {
   "cell_type": "code",
   "execution_count": 123,
   "id": "fc51e6cc",
   "metadata": {},
   "outputs": [
    {
     "name": "stdout",
     "output_type": "stream",
     "text": [
      "2014-11-02 02:00:00    2\n",
      "2015-11-01 02:00:00    2\n",
      "2016-11-06 02:00:00    2\n",
      "2017-11-05 02:00:00    2\n",
      "2014-12-11 22:00:00    1\n",
      "                      ..\n",
      "2009-06-22 21:00:00    1\n",
      "2009-06-22 20:00:00    1\n",
      "2009-06-22 19:00:00    1\n",
      "2009-06-22 18:00:00    1\n",
      "2018-01-02 00:00:00    1\n",
      "Name: Datetime, Length: 119064, dtype: int64\n"
     ]
    }
   ],
   "source": [
    "uniq_date=data[\"Datetime\"].value_counts()\n",
    "print(uniq_date)"
   ]
  },
  {
   "cell_type": "code",
   "execution_count": 124,
   "id": "d667f570",
   "metadata": {},
   "outputs": [
    {
     "name": "stdout",
     "output_type": "stream",
     "text": [
      "1613.0    205\n",
      "1670.0    204\n",
      "1677.0    202\n",
      "1580.0    201\n",
      "1645.0    200\n",
      "         ... \n",
      "2889.0      1\n",
      "2769.0      1\n",
      "1052.0      1\n",
      "2772.0      1\n",
      "1050.0      1\n",
      "Name: DUQ_MW, Length: 1882, dtype: int64\n"
     ]
    }
   ],
   "source": [
    "uniq_mw=data[\"DUQ_MW\"].value_counts()\n",
    "print(uniq_mw)"
   ]
  },
  {
   "cell_type": "markdown",
   "id": "b46e4a0f",
   "metadata": {},
   "source": [
    "Date has more unique values then the energy consumption "
   ]
  },
  {
   "cell_type": "code",
   "execution_count": 125,
   "id": "141b0d0d",
   "metadata": {},
   "outputs": [
    {
     "name": "stdout",
     "output_type": "stream",
     "text": [
      "1658.8202959653308\n"
     ]
    }
   ],
   "source": [
    "# Calculating mean,median,mode and standard debiation of daily energy consumption in megawatts (MW)\n",
    "m=data['DUQ_MW'].mean()\n",
    "print(m)"
   ]
  },
  {
   "cell_type": "code",
   "execution_count": 126,
   "id": "088970fa",
   "metadata": {},
   "outputs": [
    {
     "name": "stdout",
     "output_type": "stream",
     "text": [
      "1658.8202959653308\n"
     ]
    }
   ],
   "source": [
    "M=data['DUQ_MW'].median()\n",
    "print(m)"
   ]
  },
  {
   "cell_type": "code",
   "execution_count": 127,
   "id": "2247951a",
   "metadata": {},
   "outputs": [
    {
     "name": "stdout",
     "output_type": "stream",
     "text": [
      "0    1613.0\n",
      "Name: DUQ_MW, dtype: float64\n"
     ]
    }
   ],
   "source": [
    "Mode=data['DUQ_MW'].mode()\n",
    "print(Mode)"
   ]
  },
  {
   "cell_type": "code",
   "execution_count": 128,
   "id": "78d39cb0",
   "metadata": {},
   "outputs": [
    {
     "name": "stdout",
     "output_type": "stream",
     "text": [
      "301.74063957777213\n"
     ]
    }
   ],
   "source": [
    "std=data['DUQ_MW'].std()\n",
    "print(std)"
   ]
  },
  {
   "cell_type": "markdown",
   "id": "724b7bec",
   "metadata": {},
   "source": [
    "Dataset has same mean and median of 1658.82megawatts (MW) having mode of  1613 megawatts (MW) and 301.74 as standard deviation"
   ]
  },
  {
   "cell_type": "code",
   "execution_count": 129,
   "id": "7b24d603",
   "metadata": {},
   "outputs": [
    {
     "data": {
      "text/html": [
       "<div>\n",
       "<style scoped>\n",
       "    .dataframe tbody tr th:only-of-type {\n",
       "        vertical-align: middle;\n",
       "    }\n",
       "\n",
       "    .dataframe tbody tr th {\n",
       "        vertical-align: top;\n",
       "    }\n",
       "\n",
       "    .dataframe thead th {\n",
       "        text-align: right;\n",
       "    }\n",
       "</style>\n",
       "<table border=\"1\" class=\"dataframe\">\n",
       "  <thead>\n",
       "    <tr style=\"text-align: right;\">\n",
       "      <th></th>\n",
       "      <th>DUQ_MW</th>\n",
       "    </tr>\n",
       "  </thead>\n",
       "  <tbody>\n",
       "    <tr>\n",
       "      <th>count</th>\n",
       "      <td>119068.000000</td>\n",
       "    </tr>\n",
       "    <tr>\n",
       "      <th>mean</th>\n",
       "      <td>1658.820296</td>\n",
       "    </tr>\n",
       "    <tr>\n",
       "      <th>std</th>\n",
       "      <td>301.740640</td>\n",
       "    </tr>\n",
       "    <tr>\n",
       "      <th>min</th>\n",
       "      <td>1014.000000</td>\n",
       "    </tr>\n",
       "    <tr>\n",
       "      <th>25%</th>\n",
       "      <td>1444.000000</td>\n",
       "    </tr>\n",
       "    <tr>\n",
       "      <th>50%</th>\n",
       "      <td>1630.000000</td>\n",
       "    </tr>\n",
       "    <tr>\n",
       "      <th>75%</th>\n",
       "      <td>1819.000000</td>\n",
       "    </tr>\n",
       "    <tr>\n",
       "      <th>max</th>\n",
       "      <td>3054.000000</td>\n",
       "    </tr>\n",
       "  </tbody>\n",
       "</table>\n",
       "</div>"
      ],
      "text/plain": [
       "              DUQ_MW\n",
       "count  119068.000000\n",
       "mean     1658.820296\n",
       "std       301.740640\n",
       "min      1014.000000\n",
       "25%      1444.000000\n",
       "50%      1630.000000\n",
       "75%      1819.000000\n",
       "max      3054.000000"
      ]
     },
     "execution_count": 129,
     "metadata": {},
     "output_type": "execute_result"
    }
   ],
   "source": [
    "data.describe()"
   ]
  },
  {
   "cell_type": "markdown",
   "id": "176a372c",
   "metadata": {},
   "source": [
    "## Data Cleaning"
   ]
  },
  {
   "cell_type": "code",
   "execution_count": 130,
   "id": "ddab6181",
   "metadata": {},
   "outputs": [
    {
     "data": {
      "text/html": [
       "<div>\n",
       "<style scoped>\n",
       "    .dataframe tbody tr th:only-of-type {\n",
       "        vertical-align: middle;\n",
       "    }\n",
       "\n",
       "    .dataframe tbody tr th {\n",
       "        vertical-align: top;\n",
       "    }\n",
       "\n",
       "    .dataframe thead th {\n",
       "        text-align: right;\n",
       "    }\n",
       "</style>\n",
       "<table border=\"1\" class=\"dataframe\">\n",
       "  <thead>\n",
       "    <tr style=\"text-align: right;\">\n",
       "      <th></th>\n",
       "      <th>Datetime</th>\n",
       "      <th>DUQ_MW</th>\n",
       "    </tr>\n",
       "  </thead>\n",
       "  <tbody>\n",
       "    <tr>\n",
       "      <th>0</th>\n",
       "      <td>False</td>\n",
       "      <td>False</td>\n",
       "    </tr>\n",
       "    <tr>\n",
       "      <th>1</th>\n",
       "      <td>False</td>\n",
       "      <td>False</td>\n",
       "    </tr>\n",
       "    <tr>\n",
       "      <th>2</th>\n",
       "      <td>False</td>\n",
       "      <td>False</td>\n",
       "    </tr>\n",
       "    <tr>\n",
       "      <th>3</th>\n",
       "      <td>False</td>\n",
       "      <td>False</td>\n",
       "    </tr>\n",
       "    <tr>\n",
       "      <th>4</th>\n",
       "      <td>False</td>\n",
       "      <td>False</td>\n",
       "    </tr>\n",
       "    <tr>\n",
       "      <th>...</th>\n",
       "      <td>...</td>\n",
       "      <td>...</td>\n",
       "    </tr>\n",
       "    <tr>\n",
       "      <th>119063</th>\n",
       "      <td>False</td>\n",
       "      <td>False</td>\n",
       "    </tr>\n",
       "    <tr>\n",
       "      <th>119064</th>\n",
       "      <td>False</td>\n",
       "      <td>False</td>\n",
       "    </tr>\n",
       "    <tr>\n",
       "      <th>119065</th>\n",
       "      <td>False</td>\n",
       "      <td>False</td>\n",
       "    </tr>\n",
       "    <tr>\n",
       "      <th>119066</th>\n",
       "      <td>False</td>\n",
       "      <td>False</td>\n",
       "    </tr>\n",
       "    <tr>\n",
       "      <th>119067</th>\n",
       "      <td>False</td>\n",
       "      <td>False</td>\n",
       "    </tr>\n",
       "  </tbody>\n",
       "</table>\n",
       "<p>119068 rows × 2 columns</p>\n",
       "</div>"
      ],
      "text/plain": [
       "        Datetime  DUQ_MW\n",
       "0          False   False\n",
       "1          False   False\n",
       "2          False   False\n",
       "3          False   False\n",
       "4          False   False\n",
       "...          ...     ...\n",
       "119063     False   False\n",
       "119064     False   False\n",
       "119065     False   False\n",
       "119066     False   False\n",
       "119067     False   False\n",
       "\n",
       "[119068 rows x 2 columns]"
      ]
     },
     "execution_count": 130,
     "metadata": {},
     "output_type": "execute_result"
    }
   ],
   "source": [
    "# Checking for the missing value in dataset\n",
    "data.isna()"
   ]
  },
  {
   "cell_type": "code",
   "execution_count": 131,
   "id": "4e86aa2d",
   "metadata": {},
   "outputs": [
    {
     "data": {
      "text/html": [
       "<div>\n",
       "<style scoped>\n",
       "    .dataframe tbody tr th:only-of-type {\n",
       "        vertical-align: middle;\n",
       "    }\n",
       "\n",
       "    .dataframe tbody tr th {\n",
       "        vertical-align: top;\n",
       "    }\n",
       "\n",
       "    .dataframe thead th {\n",
       "        text-align: right;\n",
       "    }\n",
       "</style>\n",
       "<table border=\"1\" class=\"dataframe\">\n",
       "  <thead>\n",
       "    <tr style=\"text-align: right;\">\n",
       "      <th></th>\n",
       "      <th>Datetime</th>\n",
       "      <th>DUQ_MW</th>\n",
       "    </tr>\n",
       "  </thead>\n",
       "  <tbody>\n",
       "    <tr>\n",
       "      <th>0</th>\n",
       "      <td>False</td>\n",
       "      <td>False</td>\n",
       "    </tr>\n",
       "    <tr>\n",
       "      <th>1</th>\n",
       "      <td>False</td>\n",
       "      <td>False</td>\n",
       "    </tr>\n",
       "    <tr>\n",
       "      <th>2</th>\n",
       "      <td>False</td>\n",
       "      <td>False</td>\n",
       "    </tr>\n",
       "    <tr>\n",
       "      <th>3</th>\n",
       "      <td>False</td>\n",
       "      <td>False</td>\n",
       "    </tr>\n",
       "    <tr>\n",
       "      <th>4</th>\n",
       "      <td>False</td>\n",
       "      <td>False</td>\n",
       "    </tr>\n",
       "    <tr>\n",
       "      <th>...</th>\n",
       "      <td>...</td>\n",
       "      <td>...</td>\n",
       "    </tr>\n",
       "    <tr>\n",
       "      <th>119063</th>\n",
       "      <td>False</td>\n",
       "      <td>False</td>\n",
       "    </tr>\n",
       "    <tr>\n",
       "      <th>119064</th>\n",
       "      <td>False</td>\n",
       "      <td>False</td>\n",
       "    </tr>\n",
       "    <tr>\n",
       "      <th>119065</th>\n",
       "      <td>False</td>\n",
       "      <td>False</td>\n",
       "    </tr>\n",
       "    <tr>\n",
       "      <th>119066</th>\n",
       "      <td>False</td>\n",
       "      <td>False</td>\n",
       "    </tr>\n",
       "    <tr>\n",
       "      <th>119067</th>\n",
       "      <td>False</td>\n",
       "      <td>False</td>\n",
       "    </tr>\n",
       "  </tbody>\n",
       "</table>\n",
       "<p>119068 rows × 2 columns</p>\n",
       "</div>"
      ],
      "text/plain": [
       "        Datetime  DUQ_MW\n",
       "0          False   False\n",
       "1          False   False\n",
       "2          False   False\n",
       "3          False   False\n",
       "4          False   False\n",
       "...          ...     ...\n",
       "119063     False   False\n",
       "119064     False   False\n",
       "119065     False   False\n",
       "119066     False   False\n",
       "119067     False   False\n",
       "\n",
       "[119068 rows x 2 columns]"
      ]
     },
     "execution_count": 131,
     "metadata": {},
     "output_type": "execute_result"
    }
   ],
   "source": [
    "data.isnull()"
   ]
  },
  {
   "cell_type": "code",
   "execution_count": 132,
   "id": "d9c4638a",
   "metadata": {},
   "outputs": [],
   "source": [
    "#Number Of Missing Values By Column"
   ]
  },
  {
   "cell_type": "code",
   "execution_count": 133,
   "id": "81547ad6",
   "metadata": {},
   "outputs": [
    {
     "data": {
      "text/plain": [
       "Datetime    0\n",
       "DUQ_MW      0\n",
       "dtype: int64"
      ]
     },
     "execution_count": 133,
     "metadata": {},
     "output_type": "execute_result"
    }
   ],
   "source": [
    "data.isna().sum()"
   ]
  },
  {
   "cell_type": "markdown",
   "id": "dca371a6",
   "metadata": {},
   "source": [
    "Checking for duplicate value and droping the duplicate dates"
   ]
  },
  {
   "cell_type": "code",
   "execution_count": 134,
   "id": "4fa245f5",
   "metadata": {},
   "outputs": [
    {
     "data": {
      "text/plain": [
       "4"
      ]
     },
     "execution_count": 134,
     "metadata": {},
     "output_type": "execute_result"
    }
   ],
   "source": [
    "data['Datetime'].duplicated().sum()"
   ]
  },
  {
   "cell_type": "code",
   "execution_count": 135,
   "id": "77b398b6",
   "metadata": {},
   "outputs": [
    {
     "data": {
      "text/plain": [
       "117186"
      ]
     },
     "execution_count": 135,
     "metadata": {},
     "output_type": "execute_result"
    }
   ],
   "source": [
    "data['DUQ_MW'].duplicated().sum()"
   ]
  },
  {
   "cell_type": "code",
   "execution_count": 136,
   "id": "8df2f3b5",
   "metadata": {},
   "outputs": [
    {
     "name": "stdout",
     "output_type": "stream",
     "text": [
      "                   Datetime  DUQ_MW\n",
      "80287   2014-11-02 02:00:00  1240.0\n",
      "89071   2015-11-01 02:00:00  1138.0\n",
      "97711   2016-11-06 02:00:00  1107.0\n",
      "106519  2017-11-05 02:00:00  1105.0\n"
     ]
    }
   ],
   "source": [
    "# printing duplicate dates\n",
    "dup_dates=data[data['Datetime'].duplicated()]\n",
    "print(dup_dates)"
   ]
  },
  {
   "cell_type": "code",
   "execution_count": 137,
   "id": "f7c366c0",
   "metadata": {},
   "outputs": [
    {
     "data": {
      "text/plain": [
       "0"
      ]
     },
     "execution_count": 137,
     "metadata": {},
     "output_type": "execute_result"
    }
   ],
   "source": [
    "# droping duplicate dates since energy used can be same in two households\n",
    "data=data.drop_duplicates(subset=['Datetime'])\n",
    "\n",
    "#checking the number of duplicate value\n",
    "data['Datetime'].duplicated().sum()"
   ]
  },
  {
   "cell_type": "markdown",
   "id": "608f7b93",
   "metadata": {},
   "source": [
    "## Graphical representation"
   ]
  },
  {
   "cell_type": "code",
   "execution_count": 138,
   "id": "fe8935a5",
   "metadata": {},
   "outputs": [
    {
     "data": {
      "image/png": "[encoded data removed]",
      "text/plain": [
       "<Figure size 432x288 with 1 Axes>"
      ]
     },
     "metadata": {
      "needs_background": "light"
     },
     "output_type": "display_data"
    }
   ],
   "source": [
    "# ploting the dataset\n",
    "data.plot()\n",
    "plt.show()"
   ]
  },
  {
   "cell_type": "code",
   "execution_count": 139,
   "id": "e29a0d05",
   "metadata": {},
   "outputs": [
    {
     "data": {
      "text/plain": [
       "(119064, 1)"
      ]
     },
     "execution_count": 139,
     "metadata": {},
     "output_type": "execute_result"
    }
   ],
   "source": [
    "# scalling the dataset\n",
    "import sklearn.preprocessing\n",
    "scaler = sklearn.preprocessing.MinMaxScaler()\n",
    "data_norm = scaler.fit_transform(data['DUQ_MW'].values.reshape(-1,1))\n",
    "data_norm.shape"
   ]
  },
  {
   "cell_type": "markdown",
   "id": "e89cb06d",
   "metadata": {},
   "source": [
    "# Exploratory Data Analysis"
   ]
  },
  {
   "cell_type": "markdown",
   "id": "4f6235fa",
   "metadata": {},
   "source": [
    "### summary stats table for dataframe"
   ]
  },
  {
   "cell_type": "code",
   "execution_count": 140,
   "id": "0a888641",
   "metadata": {},
   "outputs": [
    {
     "data": {
      "text/html": [
       "<div>\n",
       "<style scoped>\n",
       "    .dataframe tbody tr th:only-of-type {\n",
       "        vertical-align: middle;\n",
       "    }\n",
       "\n",
       "    .dataframe tbody tr th {\n",
       "        vertical-align: top;\n",
       "    }\n",
       "\n",
       "    .dataframe thead th {\n",
       "        text-align: right;\n",
       "    }\n",
       "</style>\n",
       "<table border=\"1\" class=\"dataframe\">\n",
       "  <thead>\n",
       "    <tr style=\"text-align: right;\">\n",
       "      <th></th>\n",
       "      <th>count</th>\n",
       "      <th>mean</th>\n",
       "      <th>std</th>\n",
       "      <th>min</th>\n",
       "      <th>25%</th>\n",
       "      <th>50%</th>\n",
       "      <th>75%</th>\n",
       "      <th>max</th>\n",
       "    </tr>\n",
       "  </thead>\n",
       "  <tbody>\n",
       "    <tr>\n",
       "      <th>DUQ_MW</th>\n",
       "      <td>119064.0</td>\n",
       "      <td>1658.837474</td>\n",
       "      <td>301.730984</td>\n",
       "      <td>1014.0</td>\n",
       "      <td>1444.0</td>\n",
       "      <td>1630.0</td>\n",
       "      <td>1819.0</td>\n",
       "      <td>3054.0</td>\n",
       "    </tr>\n",
       "  </tbody>\n",
       "</table>\n",
       "</div>"
      ],
      "text/plain": [
       "           count         mean         std     min     25%     50%     75%  \\\n",
       "DUQ_MW  119064.0  1658.837474  301.730984  1014.0  1444.0  1630.0  1819.0   \n",
       "\n",
       "           max  \n",
       "DUQ_MW  3054.0  "
      ]
     },
     "execution_count": 140,
     "metadata": {},
     "output_type": "execute_result"
    }
   ],
   "source": [
    "data.describe().T"
   ]
  },
  {
   "cell_type": "markdown",
   "id": "7bf58aa9",
   "metadata": {},
   "source": [
    "## histograms for each variable in df\n"
   ]
  },
  {
   "cell_type": "code",
   "execution_count": 141,
   "id": "0583377a",
   "metadata": {},
   "outputs": [
    {
     "name": "stdout",
     "output_type": "stream",
     "text": [
      "Datetime     object\n",
      "DUQ_MW      float64\n",
      "dtype: object\n"
     ]
    }
   ],
   "source": [
    "print(data.dtypes)"
   ]
  },
  {
   "cell_type": "code",
   "execution_count": 142,
   "id": "54ef60e7",
   "metadata": {},
   "outputs": [
    {
     "name": "stderr",
     "output_type": "stream",
     "text": [
      "C:\\Users\\hp\\AppData\\Local\\Temp\\ipykernel_15588\\866477591.py:2: SettingWithCopyWarning: \n",
      "A value is trying to be set on a copy of a slice from a DataFrame.\n",
      "Try using .loc[row_indexer,col_indexer] = value instead\n",
      "\n",
      "See the caveats in the documentation: https://pandas.pydata.org/pandas-docs/stable/user_guide/indexing.html#returning-a-view-versus-a-copy\n",
      "  data['Datetime'] = pd.to_datetime( data['Datetime'] )\n"
     ]
    }
   ],
   "source": [
    "# function \"datetime\" transforma the columns \"datetime\" from object (string) to datetime.\n",
    "data['Datetime'] = pd.to_datetime( data['Datetime'] )"
   ]
  },
  {
   "cell_type": "code",
   "execution_count": 143,
   "id": "0b075ebc",
   "metadata": {},
   "outputs": [
    {
     "data": {
      "text/plain": [
       "Datetime    datetime64[ns]\n",
       "DUQ_MW             float64\n",
       "dtype: object"
      ]
     },
     "execution_count": 143,
     "metadata": {},
     "output_type": "execute_result"
    }
   ],
   "source": [
    "data.dtypes"
   ]
  },
  {
   "cell_type": "code",
   "execution_count": 144,
   "id": "a7f2d4be",
   "metadata": {},
   "outputs": [],
   "source": [
    "# divide into numerical and categorical columns, as they will be treated with different techniques.\n",
    "num_attributes = data.select_dtypes( include=['float64'] )\n",
    "cat_attributes = data.select_dtypes( exclude=['float64', 'datetime64[ns]'] )"
   ]
  },
  {
   "cell_type": "code",
   "execution_count": 145,
   "id": "73ae3f83",
   "metadata": {},
   "outputs": [
    {
     "data": {
      "text/html": [
       "<div>\n",
       "<style scoped>\n",
       "    .dataframe tbody tr th:only-of-type {\n",
       "        vertical-align: middle;\n",
       "    }\n",
       "\n",
       "    .dataframe tbody tr th {\n",
       "        vertical-align: top;\n",
       "    }\n",
       "\n",
       "    .dataframe thead th {\n",
       "        text-align: right;\n",
       "    }\n",
       "</style>\n",
       "<table border=\"1\" class=\"dataframe\">\n",
       "  <thead>\n",
       "    <tr style=\"text-align: right;\">\n",
       "      <th></th>\n",
       "      <th>DUQ_MW</th>\n",
       "    </tr>\n",
       "  </thead>\n",
       "  <tbody>\n",
       "    <tr>\n",
       "      <th>50509</th>\n",
       "      <td>1376.0</td>\n",
       "    </tr>\n",
       "  </tbody>\n",
       "</table>\n",
       "</div>"
      ],
      "text/plain": [
       "       DUQ_MW\n",
       "50509  1376.0"
      ]
     },
     "execution_count": 145,
     "metadata": {},
     "output_type": "execute_result"
    }
   ],
   "source": [
    "num_attributes.sample()"
   ]
  },
  {
   "cell_type": "code",
   "execution_count": 146,
   "id": "16bcde42",
   "metadata": {},
   "outputs": [
    {
     "data": {
      "text/html": [
       "<div>\n",
       "<style scoped>\n",
       "    .dataframe tbody tr th:only-of-type {\n",
       "        vertical-align: middle;\n",
       "    }\n",
       "\n",
       "    .dataframe tbody tr th {\n",
       "        vertical-align: top;\n",
       "    }\n",
       "\n",
       "    .dataframe thead th {\n",
       "        text-align: right;\n",
       "    }\n",
       "</style>\n",
       "<table border=\"1\" class=\"dataframe\">\n",
       "  <thead>\n",
       "    <tr style=\"text-align: right;\">\n",
       "      <th></th>\n",
       "    </tr>\n",
       "  </thead>\n",
       "  <tbody>\n",
       "    <tr>\n",
       "      <th>49559</th>\n",
       "    </tr>\n",
       "  </tbody>\n",
       "</table>\n",
       "</div>"
      ],
      "text/plain": [
       "Empty DataFrame\n",
       "Columns: []\n",
       "Index: [49559]"
      ]
     },
     "execution_count": 146,
     "metadata": {},
     "output_type": "execute_result"
    }
   ],
   "source": [
    "cat_attributes.sample()"
   ]
  },
  {
   "cell_type": "code",
   "execution_count": 147,
   "id": "c715df70",
   "metadata": {},
   "outputs": [
    {
     "data": {
      "image/png": "[encoded data removed]",
      "text/plain": [
       "<Figure size 432x288 with 1 Axes>"
      ]
     },
     "metadata": {
      "needs_background": "light"
     },
     "output_type": "display_data"
    }
   ],
   "source": [
    "\n",
    "ax=data.plot(kind='hist',bins=10)\n",
    "ax.set_xlabel('time')\n",
    "ax.set_ylabel('energy used')\n",
    "ax.set_title('Histogram of the data')\n",
    "plt.show()\n"
   ]
  },
  {
   "cell_type": "markdown",
   "id": "2d2cc244",
   "metadata": {},
   "source": [
    "### create a boxplot for every column in df\n"
   ]
  },
  {
   "cell_type": "code",
   "execution_count": 148,
   "id": "c0571f1b",
   "metadata": {},
   "outputs": [
    {
     "data": {
      "image/png": "[encoded data removed]",
      "text/plain": [
       "<Figure size 432x288 with 1 Axes>"
      ]
     },
     "metadata": {
      "needs_background": "light"
     },
     "output_type": "display_data"
    }
   ],
   "source": [
    "boxplot = data.boxplot(grid=False,fontsize=15)"
   ]
  },
  {
   "cell_type": "markdown",
   "id": "3b743eb7",
   "metadata": {},
   "source": [
    "### PLoting the line graph to see the changes in ecetric consuption"
   ]
  },
  {
   "cell_type": "markdown",
   "id": "10b970cd",
   "metadata": {},
   "source": [
    "#### changing the index to date time"
   ]
  },
  {
   "cell_type": "code",
   "execution_count": 149,
   "id": "032f0afc",
   "metadata": {},
   "outputs": [
    {
     "data": {
      "image/png": "[encoded data removed]",
      "text/plain": [
       "<Figure size 432x288 with 1 Axes>"
      ]
     },
     "metadata": {
      "needs_background": "light"
     },
     "output_type": "display_data"
    }
   ],
   "source": [
    "ax = sns.lineplot(data=data, x='Datetime', y='DUQ_MW')\n",
    "ax.yaxis.set_major_formatter(ticker.StrMethodFormatter('{x:,.0f}'))\n",
    "plt.xlabel('Datetime')\n",
    "plt.ylabel('Energy Consumption (MW)')\n",
    "plt.title('ComEd Hourly Energy Consumption', fontsize=16)\n",
    "plt.grid(True)\n",
    "plt.show()"
   ]
  },
  {
   "cell_type": "code",
   "execution_count": 150,
   "id": "78cc773f",
   "metadata": {},
   "outputs": [
    {
     "name": "stderr",
     "output_type": "stream",
     "text": [
      "C:\\Users\\hp\\AppData\\Local\\Temp\\ipykernel_15588\\2875985085.py:2: SettingWithCopyWarning: \n",
      "A value is trying to be set on a copy of a slice from a DataFrame.\n",
      "Try using .loc[row_indexer,col_indexer] = value instead\n",
      "\n",
      "See the caveats in the documentation: https://pandas.pydata.org/pandas-docs/stable/user_guide/indexing.html#returning-a-view-versus-a-copy\n",
      "  data['QUARTER'] = data['Datetime'].dt.quarter\n"
     ]
    },
    {
     "data": {
      "text/html": [
       "<div>\n",
       "<style scoped>\n",
       "    .dataframe tbody tr th:only-of-type {\n",
       "        vertical-align: middle;\n",
       "    }\n",
       "\n",
       "    .dataframe tbody tr th {\n",
       "        vertical-align: top;\n",
       "    }\n",
       "\n",
       "    .dataframe thead th {\n",
       "        text-align: right;\n",
       "    }\n",
       "</style>\n",
       "<table border=\"1\" class=\"dataframe\">\n",
       "  <thead>\n",
       "    <tr style=\"text-align: right;\">\n",
       "      <th></th>\n",
       "      <th>Datetime</th>\n",
       "      <th>DUQ_MW</th>\n",
       "      <th>QUARTER</th>\n",
       "    </tr>\n",
       "  </thead>\n",
       "  <tbody>\n",
       "    <tr>\n",
       "      <th>0</th>\n",
       "      <td>2005-12-31 01:00:00</td>\n",
       "      <td>1458.0</td>\n",
       "      <td>4</td>\n",
       "    </tr>\n",
       "    <tr>\n",
       "      <th>1</th>\n",
       "      <td>2005-12-31 02:00:00</td>\n",
       "      <td>1377.0</td>\n",
       "      <td>4</td>\n",
       "    </tr>\n",
       "    <tr>\n",
       "      <th>2</th>\n",
       "      <td>2005-12-31 03:00:00</td>\n",
       "      <td>1351.0</td>\n",
       "      <td>4</td>\n",
       "    </tr>\n",
       "    <tr>\n",
       "      <th>3</th>\n",
       "      <td>2005-12-31 04:00:00</td>\n",
       "      <td>1336.0</td>\n",
       "      <td>4</td>\n",
       "    </tr>\n",
       "    <tr>\n",
       "      <th>4</th>\n",
       "      <td>2005-12-31 05:00:00</td>\n",
       "      <td>1356.0</td>\n",
       "      <td>4</td>\n",
       "    </tr>\n",
       "  </tbody>\n",
       "</table>\n",
       "</div>"
      ],
      "text/plain": [
       "             Datetime  DUQ_MW  QUARTER\n",
       "0 2005-12-31 01:00:00  1458.0        4\n",
       "1 2005-12-31 02:00:00  1377.0        4\n",
       "2 2005-12-31 03:00:00  1351.0        4\n",
       "3 2005-12-31 04:00:00  1336.0        4\n",
       "4 2005-12-31 05:00:00  1356.0        4"
      ]
     },
     "execution_count": 150,
     "metadata": {},
     "output_type": "execute_result"
    }
   ],
   "source": [
    "# Get quarters from the datetime\n",
    "data['QUARTER'] = data['Datetime'].dt.quarter\n",
    "data.head()"
   ]
  },
  {
   "cell_type": "code",
   "execution_count": 151,
   "id": "ed83c721",
   "metadata": {},
   "outputs": [
    {
     "data": {
      "text/html": [
       "<div>\n",
       "<style scoped>\n",
       "    .dataframe tbody tr th:only-of-type {\n",
       "        vertical-align: middle;\n",
       "    }\n",
       "\n",
       "    .dataframe tbody tr th {\n",
       "        vertical-align: top;\n",
       "    }\n",
       "\n",
       "    .dataframe thead th {\n",
       "        text-align: right;\n",
       "    }\n",
       "</style>\n",
       "<table border=\"1\" class=\"dataframe\">\n",
       "  <thead>\n",
       "    <tr style=\"text-align: right;\">\n",
       "      <th></th>\n",
       "      <th>MONTHLY_AVG</th>\n",
       "      <th>QUARTER</th>\n",
       "    </tr>\n",
       "    <tr>\n",
       "      <th>Datetime</th>\n",
       "      <th></th>\n",
       "      <th></th>\n",
       "    </tr>\n",
       "  </thead>\n",
       "  <tbody>\n",
       "    <tr>\n",
       "      <th>2005-01-31</th>\n",
       "      <td>1685.872140</td>\n",
       "      <td>1</td>\n",
       "    </tr>\n",
       "    <tr>\n",
       "      <th>2005-02-28</th>\n",
       "      <td>1656.662202</td>\n",
       "      <td>1</td>\n",
       "    </tr>\n",
       "    <tr>\n",
       "      <th>2005-03-31</th>\n",
       "      <td>1633.283602</td>\n",
       "      <td>1</td>\n",
       "    </tr>\n",
       "    <tr>\n",
       "      <th>2005-04-30</th>\n",
       "      <td>1443.560501</td>\n",
       "      <td>2</td>\n",
       "    </tr>\n",
       "    <tr>\n",
       "      <th>2005-05-31</th>\n",
       "      <td>1487.625000</td>\n",
       "      <td>2</td>\n",
       "    </tr>\n",
       "  </tbody>\n",
       "</table>\n",
       "</div>"
      ],
      "text/plain": [
       "            MONTHLY_AVG  QUARTER\n",
       "Datetime                        \n",
       "2005-01-31  1685.872140        1\n",
       "2005-02-28  1656.662202        1\n",
       "2005-03-31  1633.283602        1\n",
       "2005-04-30  1443.560501        2\n",
       "2005-05-31  1487.625000        2"
      ]
     },
     "execution_count": 151,
     "metadata": {},
     "output_type": "execute_result"
    }
   ],
   "source": [
    "# Convert dataframe to average monthly format\n",
    "data = data.resample('M', on='Datetime').mean().rename(columns={'DUQ_MW':'MONTHLY_AVG'})\n",
    "data['QUARTER'] = data['QUARTER'].astype(int)\n",
    "data.head()"
   ]
  },
  {
   "cell_type": "code",
   "execution_count": 152,
   "id": "ca945b23",
   "metadata": {},
   "outputs": [
    {
     "data": {
      "image/png": "[encoded data removed]",
      "text/plain": [
       "<Figure size 432x288 with 1 Axes>"
      ]
     },
     "metadata": {
      "needs_background": "light"
     },
     "output_type": "display_data"
    }
   ],
   "source": [
    "\n",
    "ax = sns.lineplot(data=data, x='Datetime', y='MONTHLY_AVG')\n",
    "ax.yaxis.set_major_formatter(ticker.StrMethodFormatter('{x:,.0f}'))\n",
    "plt.xlabel('Datetime')\n",
    "plt.ylabel('Avg. Energy Consumption (MW)')\n",
    "plt.title('ComEd Monthly Average Energy Consumption', fontsize=16)\n",
    "plt.show()"
   ]
  },
  {
   "cell_type": "markdown",
   "id": "bb041d83",
   "metadata": {},
   "source": [
    "### Autocorrelation Plot"
   ]
  },
  {
   "cell_type": "code",
   "execution_count": 153,
   "id": "d9806d2e",
   "metadata": {},
   "outputs": [
    {
     "data": {
      "image/png": "[encoded data removed]",
      "text/plain": [
       "<Figure size 432x288 with 1 Axes>"
      ]
     },
     "metadata": {
      "needs_background": "light"
     },
     "output_type": "display_data"
    }
   ],
   "source": [
    "# Select a multiple of the seasonal frequency for the number of lags\n",
    "plot_acf(data['MONTHLY_AVG'])\n",
    "plt.xlabel('Lags')\n",
    "plt.tight_layout()\n",
    "plt.show()"
   ]
  },
  {
   "cell_type": "code",
   "execution_count": null,
   "id": "cfe53fcd",
   "metadata": {},
   "outputs": [],
   "source": []
  }
 ],
 "metadata": {
  "kernelspec": {
   "display_name": "Python 3 (ipykernel)",
   "language": "python",
   "name": "python3"
  },
  "language_info": {
   "codemirror_mode": {
    "name": "ipython",
    "version": 3
   },
   "file_extension": ".py",
   "mimetype": "text/x-python",
   "name": "python",
   "nbconvert_exporter": "python",
   "pygments_lexer": "ipython3",
   "version": "3.9.12"
  }
 },
 "nbformat": 4,
 "nbformat_minor": 5
}
